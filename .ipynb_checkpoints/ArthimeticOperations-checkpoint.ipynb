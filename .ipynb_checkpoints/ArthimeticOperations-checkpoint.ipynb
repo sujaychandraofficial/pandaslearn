{
 "cells": [
  {
   "cell_type": "code",
   "execution_count": 1,
   "metadata": {},
   "outputs": [],
   "source": [
    "import pandas as pd"
   ]
  },
  {
   "cell_type": "code",
   "execution_count": 2,
   "metadata": {},
   "outputs": [
    {
     "name": "stdout",
     "output_type": "stream",
     "text": [
      "apple     2\n",
      "grapes    3\n",
      "banana    4\n",
      "mango     5\n",
      "dtype: int64\n"
     ]
    }
   ],
   "source": [
    "fruits=pd.Series([2,3,4,5],[\"apple\",\"grapes\",\"banana\",\"mango\"])\n",
    "print(fruits)"
   ]
  },
  {
   "cell_type": "code",
   "execution_count": 3,
   "metadata": {},
   "outputs": [
    {
     "name": "stdout",
     "output_type": "stream",
     "text": [
      "\n",
      "fruits + 2:\n",
      " apple     4\n",
      "grapes    5\n",
      "banana    6\n",
      "mango     7\n",
      "dtype: int64\n",
      "\n",
      "fruits - 2:\n",
      " apple     0\n",
      "grapes    1\n",
      "banana    2\n",
      "mango     3\n",
      "dtype: int64\n",
      "\n",
      "fruits * 2:\n",
      " apple      4\n",
      "grapes     6\n",
      "banana     8\n",
      "mango     10\n",
      "dtype: int64\n",
      "\n",
      "fruits / 2:\n",
      " apple     1.0\n",
      "grapes    1.5\n",
      "banana    2.0\n",
      "mango     2.5\n",
      "dtype: float64\n",
      "\n"
     ]
    }
   ],
   "source": [
    "# We perform basic element-wise operations using arithmetic symbols\n",
    "print()\n",
    "print('fruits + 2:\\n', fruits + 2) # We add 2 to each item in fruits\n",
    "print()\n",
    "print('fruits - 2:\\n', fruits - 2) # We subtract 2 to each item in fruits\n",
    "print()\n",
    "print('fruits * 2:\\n', fruits * 2) # We multiply each item in fruits by 2 \n",
    "print()\n",
    "print('fruits / 2:\\n', fruits / 2) # We divide each item in fruits by 2\n",
    "print()"
   ]
  },
  {
   "cell_type": "code",
   "execution_count": 4,
   "metadata": {},
   "outputs": [],
   "source": [
    "import numpy as np"
   ]
  },
  {
   "cell_type": "code",
   "execution_count": 5,
   "metadata": {},
   "outputs": [
    {
     "name": "stdout",
     "output_type": "stream",
     "text": [
      "\n",
      "fruits sqrt\n",
      " apple     1.414214\n",
      "grapes    1.732051\n",
      "banana    2.000000\n",
      "mango     2.236068\n",
      "dtype: float64\n",
      "\n",
      "fruits exp\n",
      " apple       7.389056\n",
      "grapes     20.085537\n",
      "banana     54.598150\n",
      "mango     148.413159\n",
      "dtype: float64\n",
      "\n",
      "fruits power\n",
      " apple      4\n",
      "grapes     9\n",
      "banana    16\n",
      "mango     25\n",
      "dtype: int64\n",
      "\n"
     ]
    }
   ],
   "source": [
    "# We perform basic element-wise operations using arithmetic symbols\n",
    "print()\n",
    "print('fruits sqrt\\n', np.sqrt(fruits)) # We add 2 to each item in fruits\n",
    "print()\n",
    "print('fruits exp\\n', np.exp(fruits)) # We subtract 2 to each item in fruits\n",
    "print()\n",
    "print('fruits power\\n', np.power(fruits,2)) # We multiply each item in fruits by 2 \n",
    "print()\n"
   ]
  },
  {
   "cell_type": "code",
   "execution_count": 6,
   "metadata": {},
   "outputs": [
    {
     "name": "stdout",
     "output_type": "stream",
     "text": [
      "\n",
      "mutltiply apples  4\n",
      "\n",
      "add to apples and grapes apple     4\n",
      "grapes    5\n",
      "dtype: int64\n",
      "\n",
      "divide by 2 apple    1.0\n",
      "dtype: float64\n"
     ]
    }
   ],
   "source": [
    "#we can perform arthemetic operations on selected items\n",
    "print()\n",
    "print(\"mutltiply apples \",fruits[\"apple\"]*2)\n",
    "print()\n",
    "print(\"add to apples and grapes\",fruits[[\"apple\",\"grapes\"]]+2)\n",
    "print()\n",
    "print(\"divide by 2\",fruits.iloc[[0]]/2)\n"
   ]
  },
  {
   "cell_type": "code",
   "execution_count": 7,
   "metadata": {},
   "outputs": [
    {
     "name": "stdout",
     "output_type": "stream",
     "text": [
      "fruits      1\n",
      "veg         2\n",
      "burger    yes\n",
      "iade       no\n",
      "dtype: object\n"
     ]
    }
   ],
   "source": [
    "groceries=pd.Series([1,2,\"yes\",\"no\"],[\"fruits\",\"veg\",\"burger\",\"iade\"])\n",
    "print(groceries)"
   ]
  },
  {
   "cell_type": "code",
   "execution_count": 8,
   "metadata": {},
   "outputs": [
    {
     "name": "stdout",
     "output_type": "stream",
     "text": [
      "fruits         2\n",
      "veg            4\n",
      "burger    yesyes\n",
      "iade        nono\n",
      "dtype: object\n"
     ]
    }
   ],
   "source": [
    "print(groceries*2)"
   ]
  },
  {
   "cell_type": "code",
   "execution_count": 9,
   "metadata": {},
   "outputs": [
    {
     "name": "stdout",
     "output_type": "stream",
     "text": [
      "Earth     8.311111\n",
      "Mars     12.661111\n",
      "Venus     6.011111\n",
      "dtype: float64\n"
     ]
    }
   ],
   "source": [
    "import pandas as pd\n",
    "\n",
    "# Create a Pandas Series that contains the distance of some planets from the Sun.\n",
    "# Use the name of the planets as the index to your Pandas Series, and the distance\n",
    "# from the Sun as your data. The distance from the Sun is in units of 10^6 km\n",
    "\n",
    "distance_from_sun = [149.6, 1433.5, 227.9, 108.2, 778.6]\n",
    "\n",
    "planets = ['Earth','Saturn', 'Mars','Venus', 'Jupiter']\n",
    "\n",
    "# Create a Pandas Series using the above data, with the name of the planets as\n",
    "# the index and the distance from the Sun as your data.\n",
    "dist_planets = pd.Series(distance_from_sun,planets)\n",
    "\n",
    "# Calculate the number of minutes it takes sunlight to reach each planet. You can\n",
    "# do this by dividing the distance from the Sun for each planet by the speed of light.\n",
    "# Since in the data above the distance from the Sun is in units of 10^6 km, you can\n",
    "# use a value for the speed of light of c = 18, since light travels 18 x 10^6 km/minute.\n",
    "time_light = dist_planets/18\n",
    "\n",
    "# Use Boolean indexing to select only those planets for which sunlight takes less\n",
    "# than 40 minutes to reach them.\n",
    "close_planets = time_light[time_light < 40]\n",
    "print(close_planets)"
   ]
  },
  {
   "cell_type": "code",
   "execution_count": 10,
   "metadata": {},
   "outputs": [
    {
     "name": "stdout",
     "output_type": "stream",
     "text": [
      "apple           8\n",
      "banana          9\n",
      "cherry         10\n",
      "dragonfruit     4\n",
      "dtype: int64\n"
     ]
    }
   ],
   "source": [
    "# practice\n",
    "fruits=pd.Series([8,9,10,4],[\"apple\",\"banana\",\"cherry\",\"dragonfruit\"])\n",
    "print(fruits)"
   ]
  },
  {
   "cell_type": "code",
   "execution_count": 11,
   "metadata": {},
   "outputs": [
    {
     "name": "stdout",
     "output_type": "stream",
     "text": [
      "\n",
      " apple          10\n",
      "banana         11\n",
      "cherry         12\n",
      "dragonfruit     6\n",
      "dtype: int64\n",
      "\n",
      " apple          6\n",
      "banana         7\n",
      "cherry         8\n",
      "dragonfruit    2\n",
      "dtype: int64\n",
      "\n",
      " apple          16\n",
      "banana         18\n",
      "cherry         20\n",
      "dragonfruit     8\n",
      "dtype: int64\n",
      "\n",
      " apple          4.0\n",
      "banana         4.5\n",
      "cherry         5.0\n",
      "dragonfruit    2.0\n",
      "dtype: float64\n"
     ]
    }
   ],
   "source": [
    "print(\"\\n\",fruits+2)\n",
    "print(\"\\n\",fruits-2)\n",
    "print(\"\\n\",fruits*2)\n",
    "print(\"\\n\",fruits/2)"
   ]
  },
  {
   "cell_type": "code",
   "execution_count": 12,
   "metadata": {},
   "outputs": [],
   "source": [
    "import numpy as np"
   ]
  },
  {
   "cell_type": "code",
   "execution_count": 14,
   "metadata": {},
   "outputs": [
    {
     "name": "stdout",
     "output_type": "stream",
     "text": [
      "sqrt \n",
      " apple          2.828427\n",
      "banana         3.000000\n",
      "cherry         3.162278\n",
      "dragonfruit    2.000000\n",
      "dtype: float64\n",
      "sqrt \n",
      " apple           2980.957987\n",
      "banana          8103.083928\n",
      "cherry         22026.465795\n",
      "dragonfruit       54.598150\n",
      "dtype: float64\n",
      "sqrt \n",
      " apple           64\n",
      "banana          81\n",
      "cherry         100\n",
      "dragonfruit     16\n",
      "dtype: int64\n"
     ]
    }
   ],
   "source": [
    "print(\"sqrt \\n\",np.sqrt(fruits))\n",
    "print(\"sqrt \\n\",np.exp(fruits))\n",
    "print(\"sqrt \\n\",np.power(fruits,2))"
   ]
  },
  {
   "cell_type": "code",
   "execution_count": 15,
   "metadata": {},
   "outputs": [
    {
     "name": "stdout",
     "output_type": "stream",
     "text": [
      "fruits \n",
      " apple           8\n",
      "banana          9\n",
      "cherry         10\n",
      "dragonfruit     4\n",
      "dtype: int64\n",
      "18\n",
      "fruits \n",
      " apple           8\n",
      "banana          9\n",
      "cherry         10\n",
      "dragonfruit     4\n",
      "dtype: int64\n"
     ]
    }
   ],
   "source": [
    "print(\"fruits \\n\",fruits)\n",
    "print(fruits[\"banana\"]*2)\n",
    "print(\"fruits \\n\",fruits)"
   ]
  },
  {
   "cell_type": "code",
   "execution_count": 18,
   "metadata": {},
   "outputs": [
    {
     "name": "stdout",
     "output_type": "stream",
     "text": [
      "fruits \n",
      " apple           8\n",
      "banana          9\n",
      "cherry         10\n",
      "dragonfruit     4\n",
      "dtype: int64\n",
      "banana    18\n",
      "cherry    20\n",
      "dtype: int64\n",
      "banana    18\n",
      "cherry    20\n",
      "dtype: int64\n",
      "fruits \n",
      " apple           8\n",
      "banana          9\n",
      "cherry         10\n",
      "dragonfruit     4\n",
      "dtype: int64\n"
     ]
    }
   ],
   "source": [
    "print(\"fruits \\n\",fruits)\n",
    "print(fruits[[\"banana\",\"cherry\"]]*2)\n",
    "print(fruits.loc[[\"banana\",\"cherry\"]]*2)\n",
    "print(\"fruits \\n\",fruits)"
   ]
  },
  {
   "cell_type": "code",
   "execution_count": 19,
   "metadata": {},
   "outputs": [
    {
     "name": "stdout",
     "output_type": "stream",
     "text": [
      "fruits \n",
      " apple           8\n",
      "banana          9\n",
      "cherry         10\n",
      "dragonfruit     4\n",
      "dtype: int64\n",
      "dragonfruit    8\n",
      "dtype: int64\n",
      "apple    16\n",
      "dtype: int64\n",
      "fruits \n",
      " apple           8\n",
      "banana          9\n",
      "cherry         10\n",
      "dragonfruit     4\n",
      "dtype: int64\n"
     ]
    }
   ],
   "source": [
    "print(\"fruits \\n\",fruits)\n",
    "print(fruits[[-1]]*2)\n",
    "print(fruits.iloc[[0]]*2)\n",
    "print(\"fruits \\n\",fruits)"
   ]
  },
  {
   "cell_type": "code",
   "execution_count": 20,
   "metadata": {},
   "outputs": [
    {
     "name": "stdout",
     "output_type": "stream",
     "text": [
      "fruits      1\n",
      "veg         2\n",
      "burger    yes\n",
      "iade       no\n",
      "dtype: object\n",
      "\n",
      "\n",
      "fruits         2\n",
      "veg            4\n",
      "burger    yesyes\n",
      "iade        nono\n",
      "dtype: object\n"
     ]
    }
   ],
   "source": [
    "groceries=pd.Series([1,2,\"yes\",\"no\"],[\"fruits\",\"veg\",\"burger\",\"iade\"])\n",
    "print(groceries)\n",
    "print(\"\\n\")\n",
    "print(groceries*2)"
   ]
  },
  {
   "cell_type": "code",
   "execution_count": null,
   "metadata": {},
   "outputs": [],
   "source": []
  }
 ],
 "metadata": {
  "kernelspec": {
   "display_name": "Python 3",
   "language": "python",
   "name": "python3"
  },
  "language_info": {
   "codemirror_mode": {
    "name": "ipython",
    "version": 3
   },
   "file_extension": ".py",
   "mimetype": "text/x-python",
   "name": "python",
   "nbconvert_exporter": "python",
   "pygments_lexer": "ipython3",
   "version": "3.7.9"
  }
 },
 "nbformat": 4,
 "nbformat_minor": 4
}
