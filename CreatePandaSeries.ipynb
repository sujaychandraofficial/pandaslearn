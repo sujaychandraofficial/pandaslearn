{
 "cells": [
  {
   "cell_type": "code",
   "execution_count": 1,
   "metadata": {},
   "outputs": [],
   "source": [
    "import pandas as pd"
   ]
  },
  {
   "cell_type": "code",
   "execution_count": 7,
   "metadata": {},
   "outputs": [
    {
     "data": {
      "text/plain": [
       "banana        20\n",
       "carrots        3\n",
       "eggs         yes\n",
       "milk       super\n",
       "dtype: object"
      ]
     },
     "execution_count": 7,
     "metadata": {},
     "output_type": "execute_result"
    }
   ],
   "source": [
    "groceries=pd.Series(data=[20,3,\"yes\",\"super\"],index=[\"banana\",\"carrots\",\"eggs\",\"milk\"])\n",
    "groceries"
   ]
  },
  {
   "cell_type": "code",
   "execution_count": 8,
   "metadata": {},
   "outputs": [
    {
     "name": "stdout",
     "output_type": "stream",
     "text": [
      "the shape of grocies: (4,)\n",
      "the no od dimensuions in groceries 1\n",
      "the no of elements in groceries 4\n"
     ]
    }
   ],
   "source": [
    "print(\"the shape of grocies:\",groceries.shape)\n",
    "print(\"the no od dimensuions in groceries\",groceries.ndim)\n",
    "print(\"the no of elements in groceries\",groceries.size)"
   ]
  },
  {
   "cell_type": "code",
   "execution_count": 11,
   "metadata": {},
   "outputs": [
    {
     "name": "stdout",
     "output_type": "stream",
     "text": [
      "the indexs are  Index(['banana', 'carrots', 'eggs', 'milk'], dtype='object')\n",
      "\n",
      "the index are  [20 3 'yes' 'super']\n"
     ]
    }
   ],
   "source": [
    "print(\"the indexs are \",groceries.index)\n",
    "print()\n",
    "print(\"the index are \",groceries.values)"
   ]
  },
  {
   "cell_type": "code",
   "execution_count": 13,
   "metadata": {},
   "outputs": [
    {
     "name": "stdout",
     "output_type": "stream",
     "text": [
      "the banana in groceries True\n",
      "the cheery in griceries False\n"
     ]
    }
   ],
   "source": [
    "x=\"banana\" in groceries\n",
    "\n",
    "y= \"cherry\" in groceries\n",
    "\n",
    "print(\"the banana in groceries\",x)\n",
    "print(\"the cheery in griceries\",y)"
   ]
  },
  {
   "cell_type": "code",
   "execution_count": null,
   "metadata": {},
   "outputs": [],
   "source": []
  }
 ],
 "metadata": {
  "kernelspec": {
   "display_name": "Python 3",
   "language": "python",
   "name": "python3"
  },
  "language_info": {
   "codemirror_mode": {
    "name": "ipython",
    "version": 3
   },
   "file_extension": ".py",
   "mimetype": "text/x-python",
   "name": "python",
   "nbconvert_exporter": "python",
   "pygments_lexer": "ipython3",
   "version": "3.7.9"
  }
 },
 "nbformat": 4,
 "nbformat_minor": 4
}
