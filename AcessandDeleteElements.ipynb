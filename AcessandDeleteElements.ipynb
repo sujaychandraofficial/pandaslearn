{
 "cells": [
  {
   "cell_type": "code",
   "execution_count": 1,
   "metadata": {},
   "outputs": [],
   "source": [
    "import pandas as pd"
   ]
  },
  {
   "cell_type": "code",
   "execution_count": 4,
   "metadata": {},
   "outputs": [
    {
     "data": {
      "text/plain": [
       "banana     20\n",
       "apple      40\n",
       "egg       yes\n",
       "jam        no\n",
       "dtype: object"
      ]
     },
     "execution_count": 4,
     "metadata": {},
     "output_type": "execute_result"
    }
   ],
   "source": [
    "groceries=pd.Series(data=[20,40,\"yes\",\"no\"], index=[\"banana\",\"apple\",\"egg\",\"jam\"])\n",
    "groceries"
   ]
  },
  {
   "cell_type": "code",
   "execution_count": 16,
   "metadata": {},
   "outputs": [
    {
     "name": "stdout",
     "output_type": "stream",
     "text": [
      "acces the no of bananas 20\n",
      "\n",
      "access the two items at same time \n",
      " banana    20\n",
      "apple     40\n",
      "dtype: object\n",
      "\n",
      "remove ambuigity by aceess using index value usine loc \n",
      " apple     40\n",
      "egg      yes\n",
      "dtype: object\n"
     ]
    }
   ],
   "source": [
    "print(\"acces the no of bananas\",groceries[\"banana\"])\n",
    "print()\n",
    "print(\"access the two items at same time \\n\",groceries[[\"banana\",\"apple\"]])\n",
    "print()\n",
    "\n",
    "print(\"remove ambuigity by aceess using index value usine loc \\n\",groceries.loc[[\"apple\",\"egg\"]])\n"
   ]
  },
  {
   "cell_type": "code",
   "execution_count": 21,
   "metadata": {},
   "outputs": [
    {
     "name": "stdout",
     "output_type": "stream",
     "text": [
      "\n",
      "access the the bananas and apples\n",
      " banana    20\n",
      "apple     40\n",
      "dtype: object\n",
      "\n",
      "acces only single element \n",
      " apple    40\n",
      "dtype: object\n",
      "\n",
      "access the last index\n",
      " jam    no\n",
      "dtype: object\n",
      "\n",
      "access the element by inter value and remove ambigiuty using iloc\n",
      " banana    20\n",
      "apple     40\n",
      "dtype: object\n"
     ]
    }
   ],
   "source": [
    "print()\n",
    "print(\"access the the bananas and apples\\n\",groceries[[0,1]])\n",
    "print()\n",
    "print(\"acces only single element \\n\",groceries[[1]])\n",
    "print()\n",
    "print(\"access the last index\\n\",groceries[[-1]])\n",
    "print()\n",
    "print(\"access the element by inter value and remove ambigiuty using iloc\\n\",groceries.iloc[[0,1]])"
   ]
  },
  {
   "cell_type": "code",
   "execution_count": 25,
   "metadata": {},
   "outputs": [
    {
     "name": "stdout",
     "output_type": "stream",
     "text": [
      "\n",
      "Original groceries \n",
      " banana     20\n",
      "apple      40\n",
      "egg       yes\n",
      "jam        no\n",
      "dtype: object\n",
      "\n",
      "Modified groceries \n",
      " banana     40\n",
      "apple      40\n",
      "egg       yes\n",
      "jam        no\n",
      "dtype: object\n"
     ]
    }
   ],
   "source": [
    "print()\n",
    "print(\"Original groceries \\n\",groceries)\n",
    "\n",
    "groceries['banana']=40\n",
    "\n",
    "print()\n",
    "print(\"Modified groceries \\n\",groceries)"
   ]
  },
  {
   "cell_type": "code",
   "execution_count": 29,
   "metadata": {},
   "outputs": [
    {
     "name": "stdout",
     "output_type": "stream",
     "text": [
      "\n",
      "original \n",
      " banana     40\n",
      "apple      40\n",
      "egg       yes\n",
      "jam        no\n",
      "dtype: object\n",
      "\n",
      "apple     40\n",
      "egg      yes\n",
      "jam       no\n",
      "dtype: object\n",
      "\n",
      "does not change\n",
      " banana     40\n",
      "apple      40\n",
      "egg       yes\n",
      "jam        no\n",
      "dtype: object\n"
     ]
    }
   ],
   "source": [
    "print()\n",
    "print(\"original \\n\",groceries)\n",
    "\n",
    "print()\n",
    "print(groceries.drop(\"banana\"))\n",
    "print()\n",
    "\n",
    "print(\"does not change\\n\",groceries)"
   ]
  },
  {
   "cell_type": "code",
   "execution_count": 34,
   "metadata": {},
   "outputs": [
    {
     "name": "stdout",
     "output_type": "stream",
     "text": [
      "\n",
      "original \n",
      " banana     40\n",
      "apple      40\n",
      "egg       yes\n",
      "jam        no\n",
      "dtype: object\n",
      "\n",
      "None\n",
      "\n",
      "Modified\n",
      " apple     40\n",
      "egg      yes\n",
      "jam       no\n",
      "dtype: object\n"
     ]
    }
   ],
   "source": [
    "print()\n",
    "print(\"original \\n\",groceries)\n",
    "\n",
    "print()\n",
    "print(groceries.drop(\"banana\",inplace=True))\n",
    "print()\n",
    "\n",
    "print(\"Modified\\n\",groceries)"
   ]
  },
  {
   "cell_type": "code",
   "execution_count": null,
   "metadata": {},
   "outputs": [],
   "source": []
  }
 ],
 "metadata": {
  "kernelspec": {
   "display_name": "Python 3",
   "language": "python",
   "name": "python3"
  },
  "language_info": {
   "codemirror_mode": {
    "name": "ipython",
    "version": 3
   },
   "file_extension": ".py",
   "mimetype": "text/x-python",
   "name": "python",
   "nbconvert_exporter": "python",
   "pygments_lexer": "ipython3",
   "version": "3.7.9"
  }
 },
 "nbformat": 4,
 "nbformat_minor": 4
}
